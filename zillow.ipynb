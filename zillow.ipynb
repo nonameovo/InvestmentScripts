{
 "cells": [
  {
   "cell_type": "code",
   "execution_count": null,
   "id": "c4602d11-7c15-490d-bf6c-775b5ee22231",
   "metadata": {},
   "outputs": [],
   "source": [
    "from bs4 import BeautifulSoup\n",
    "import numpy as np\n",
    "import pandas as pd\n",
    "import requests\n",
    "import lxml\n",
    "import numbers\n",
    "from collections import defaultdict\n",
    "from uszipcode import *\n",
    "\n",
    "import sys\n",
    "sys.path.insert(2, './apartments-scraper-master/')\n",
    "\n",
    "from parse_apartments import *\n",
    "\n",
    "pd.set_option('display.max_colwidth', None)\n",
    "pd.set_option('display.max_columns', None)\n",
    "\n",
    "import warnings\n",
    "warnings.filterwarnings(\"ignore\")\n",
    "\n",
    "def get_zillow_data(url):\n",
    "    request_headers = {\n",
    "        'accept':'test/html,application/xhtml+xml,application/xml;q=0.9,image/webp,image/apng,*/*;q=0.8',\n",
    "        'accept-encoding':'gzip, deflate, br',\n",
    "        'accept-language':'en-US,en;q=0.8',\n",
    "        'upgrade-insecure-requests':'1',\n",
    "        'user-agent':'Mozilla/5.0 (Windows NT 10.0; Win64; X64) AppleWebKit/537.36(KHTML, like Gecko) Chrome/61.0.3163.100 Safari/537.36' \n",
    "    }\n",
    "\n",
    "    with requests.Session() as session:\n",
    "        response = session.get(url, headers=request_headers)\n",
    "        \n",
    "    soup = BeautifulSoup(response.content, 'html.parser')\n",
    "    \n",
    "    df = pd.DataFrame()\n",
    "    \n",
    "    for i in soup:\n",
    "        address = soup.find_all(class_='list-card-addr')\n",
    "        price = list(soup.find_all(class_='list-card-price'))\n",
    "        beds = list(soup.find_all('ul',class_='list-card-details'))\n",
    "\n",
    "    df['price'] = price\n",
    "    df['address'] = address\n",
    "    df['beds'] = beds\n",
    "\n",
    "    data = df[(df['price'] != '') & (df['price'] != ' ')]\n",
    "\n",
    "    return data"
   ]
  }
 ],
 "metadata": {
  "kernelspec": {
   "display_name": "Python 3 (ipykernel)",
   "language": "python",
   "name": "python3"
  },
  "language_info": {
   "codemirror_mode": {
    "name": "ipython",
    "version": 3
   },
   "file_extension": ".py",
   "mimetype": "text/x-python",
   "name": "python",
   "nbconvert_exporter": "python",
   "pygments_lexer": "ipython3",
   "version": "3.9.12"
  }
 },
 "nbformat": 4,
 "nbformat_minor": 5
}
